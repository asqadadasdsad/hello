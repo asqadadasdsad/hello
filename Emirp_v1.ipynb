{
  "nbformat": 4,
  "nbformat_minor": 0,
  "metadata": {
    "colab": {
      "provenance": [],
      "toc_visible": true,
      "authorship_tag": "ABX9TyNlxFUmolLtw8jBenivc0OY",
      "include_colab_link": true
    },
    "kernelspec": {
      "name": "python3",
      "display_name": "Python 3"
    },
    "language_info": {
      "name": "python"
    }
  },
  "cells": [
    {
      "cell_type": "markdown",
      "metadata": {
        "id": "view-in-github",
        "colab_type": "text"
      },
      "source": [
        "<a href=\"https://colab.research.google.com/github/asqadadasdsad/hello/blob/main/Emirp_v1.ipynb\" target=\"_parent\"><img src=\"https://colab.research.google.com/assets/colab-badge.svg\" alt=\"Open In Colab\"/></a>"
      ]
    },
    {
      "cell_type": "code",
      "source": [
        "def IsPrime(num):\n",
        "  for j in range(2,num):\n",
        "    if (num % j) == 0:\n",
        "      return False\n",
        "\n",
        "  return True"
      ],
      "metadata": {
        "id": "C7wmt2xkv2pB"
      },
      "execution_count": null,
      "outputs": []
    },
    {
      "cell_type": "code",
      "source": [
        "num = 23\n",
        "num2 = int(str(num)[::-1])\n",
        "print (num2)"
      ],
      "metadata": {
        "colab": {
          "base_uri": "https://localhost:8080/"
        },
        "id": "91MoWbh1qPEr",
        "outputId": "82076f0b-c08d-4baf-eff4-38051a43c028"
      },
      "execution_count": null,
      "outputs": [
        {
          "output_type": "stream",
          "name": "stdout",
          "text": [
            "32\n"
          ]
        }
      ]
    },
    {
      "cell_type": "code",
      "source": [
        "import math\n",
        "\n",
        "# Take user input\n",
        "num = int(input(\"Enter a number: \"))\n",
        "\n",
        "# Calculate the square root using the math module\n",
        "root = num**0.5\n",
        "\n",
        "# Check if the result is an integer\n",
        "if root.is_integer():\n",
        "    print(f\"The square root of {num} is {int(root)}.\")\n",
        "else:\n",
        "    print(f\"The square root of {num} is not an integer.\")"
      ],
      "metadata": {
        "id": "PKsL09C12Oto"
      },
      "execution_count": null,
      "outputs": []
    },
    {
      "cell_type": "code",
      "source": [
        "def is_prime(num):\n",
        "    if num < 2:\n",
        "        return False\n",
        "    for i in range(2, int(num ** 0.5) + 1):\n",
        "        if num % i == 0:\n",
        "            return False\n",
        "    return True\n",
        "\n",
        "#print(is_prime(2201))"
      ],
      "metadata": {
        "id": "yGHVWcPW306v"
      },
      "execution_count": null,
      "outputs": []
    },
    {
      "cell_type": "code",
      "execution_count": null,
      "metadata": {
        "id": "xlLFemMJmktE",
        "outputId": "1de36b06-540f-4639-de64-f76364256df5",
        "colab": {
          "base_uri": "https://localhost:8080/"
        }
      },
      "outputs": [
        {
          "output_type": "stream",
          "name": "stdout",
          "text": [
            "Enter the starting range:0\n",
            "Enter the end range: 1000000\n",
            "Prime numbers in the range 0 to 1000000\n",
            "\n",
            " 5592\n"
          ]
        }
      ],
      "source": [
        "start = int (input(\"Enter the starting range:\"))\n",
        "end = int (input(\"Enter the end range: \"))\n",
        "count = 0\n",
        "print (\"Prime numbers in the range\", start, \"to\", end)\n",
        "\n",
        "for i in range(start, end+1):\n",
        "    if is_prime(i):\n",
        "      if str(i) != str(i)[::-1]:\n",
        "        if is_prime(int(str(i)[::-1])):\n",
        "          count +=1\n",
        "          #print (i, end = ' ')\n",
        "print(\"\\n\",int(count/2))"
      ]
    }
  ]
}